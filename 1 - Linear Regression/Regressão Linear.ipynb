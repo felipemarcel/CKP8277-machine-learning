{
 "cells": [
  {
   "cell_type": "code",
   "execution_count": 396,
   "metadata": {},
   "outputs": [],
   "source": [
    "import pandas as pd\n",
    "import numpy as np\n",
    "import matplotlib.pyplot as plt\n",
    "data_table = pd.DataFrame({'Peso': np.array([40.0, 93.5, 35.5, 30.0, 52.0, 17.0, 38.5,  8.5, 33.0,  9.5, 21.0, 79.0]) / 2.205,\n",
    "                            'Altura': np.array([42.8, 63.5, 37.5, 39.5, 45.5, 38.5, 43.0, 22.5, 37.0, 23.5, 33.0, 58.0]) / 39.37,\n",
    "                            'Cateter': [37, 50, 34, 36, 43, 28, 37, 20, 34, 30, 38, 47]},\n",
    "                            dtype='float')"
   ]
  },
  {
   "cell_type": "code",
   "execution_count": 397,
   "metadata": {},
   "outputs": [],
   "source": [
    "# Normalization\n",
    "data = data_table.values\n",
    "d_mean = data - np.mean(data)\n",
    "d_std = np.std(data)\n",
    "data = d_mean/d_std\n"
   ]
  },
  {
   "cell_type": "code",
   "execution_count": 398,
   "metadata": {},
   "outputs": [],
   "source": [
    "X = data[:,:2]\n",
    "y = data[:,2:]"
   ]
  },
  {
   "cell_type": "code",
   "execution_count": 399,
   "metadata": {},
   "outputs": [],
   "source": [
    "def computeCost(x, y, w):\n",
    "    m = y.shape[0]\n",
    "    cost = 0\n",
    "    cost = (1/(2*m))*np.sum(np.square(np.dot(x, w) - y))\n",
    "    return cost"
   ]
  },
  {
   "cell_type": "code",
   "execution_count": 400,
   "metadata": {},
   "outputs": [],
   "source": [
    "def plot_cost_graph(w, cost_history, title):\n",
    "    plt.plot(np.arange(len(cost_history)), cost_history, lw=2)\n",
    "    plt.xlabel('Epochs')\n",
    "    plt.ylabel('Cost')\n",
    "    print('Parâmetros encontrados para o {:s}: {:s}'.format(title,str(w)))"
   ]
  },
  {
   "cell_type": "code",
   "execution_count": 427,
   "metadata": {},
   "outputs": [],
   "source": [
    "#Gradient Descent\n",
    "def gd(x, y, epoch, alpha):\n",
    "    w = np.zeros((x.shape[1],1))    \n",
    "    w = w.copy()\n",
    "    cost_history = []\n",
    "    for i in range(epoch+1):\n",
    "        error = np.square((y - np.dot(x,w))**2)\n",
    "        w += (alpha/y.size)*np.sum((x.T).dot(error))\n",
    "        cost_history.append(computeCost(x,y,w))\n",
    "    return w,cost_history"
   ]
  },
  {
   "cell_type": "code",
   "execution_count": 428,
   "metadata": {},
   "outputs": [],
   "source": [
    "#Standard Gradient Descent\n",
    "def sgd(x, y, epoch, alpha):\n",
    "    w = np.zeros((x.shape[1],1))    \n",
    "    w = w.copy()\n",
    "    cost_history = []\n",
    "    for i in range(epoch+1):\n",
    "        error = y-np.dot(x,w)\n",
    "        w += alpha*(x.T).dot(error)\n",
    "        cost_history.append(computeCost(x,y,w))\n",
    "    return w,cost_history"
   ]
  },
  {
   "cell_type": "code",
   "execution_count": 429,
   "metadata": {},
   "outputs": [],
   "source": [
    "def ols(x,y):\n",
    "    w = np.dot(np.linalg.pinv(x),y)\n",
    "    return w"
   ]
  },
  {
   "cell_type": "code",
   "execution_count": 430,
   "metadata": {},
   "outputs": [
    {
     "name": "stdout",
     "output_type": "stream",
     "text": [
      "Parâmetros encontrados para o GD: [[-0.14537944]\n",
      " [-0.14537944]]\n"
     ]
    },
    {
     "data": {
      "image/png": "[encoded data removed]",
      "text/plain": [
       "<Figure size 432x288 with 1 Axes>"
      ]
     },
     "metadata": {
      "needs_background": "light"
     },
     "output_type": "display_data"
    }
   ],
   "source": [
    "w, cost_history = gd(X, y, 1200, 0.01)\n",
    "plot_cost_graph(w, cost_history, 'GD')"
   ]
  },
  {
   "cell_type": "code",
   "execution_count": 431,
   "metadata": {
    "scrolled": true
   },
   "outputs": [
    {
     "name": "stdout",
     "output_type": "stream",
     "text": [
      "Parâmetros encontrados para o SGD: [[ 0.65263193]\n",
      " [-1.08374199]]\n"
     ]
    },
    {
     "data": {
      "image/png": "[encoded data removed]",
      "text/plain": [
       "<Figure size 432x288 with 1 Axes>"
      ]
     },
     "metadata": {
      "needs_background": "light"
     },
     "output_type": "display_data"
    }
   ],
   "source": [
    "w, cost_history = sgd(X, y, 1200, 0.01)\n",
    "plot_cost_graph(w, cost_history, 'SGD')"
   ]
  },
  {
   "cell_type": "code",
   "execution_count": 423,
   "metadata": {},
   "outputs": [
    {
     "data": {
      "text/plain": [
       "array([[ 0.65263193],\n",
       "       [-1.08374199]])"
      ]
     },
     "execution_count": 423,
     "metadata": {},
     "output_type": "execute_result"
    }
   ],
   "source": [
    "ols(X,y)"
   ]
  },
  {
   "cell_type": "code",
   "execution_count": null,
   "metadata": {},
   "outputs": [],
   "source": []
  },
  {
   "cell_type": "code",
   "execution_count": null,
   "metadata": {},
   "outputs": [],
   "source": []
  }
 ],
 "metadata": {
  "kernelspec": {
   "display_name": "Python 3",
   "language": "python",
   "name": "python3"
  },
  "language_info": {
   "codemirror_mode": {
    "name": "ipython",
    "version": 3
   },
   "file_extension": ".py",
   "mimetype": "text/x-python",
   "name": "python",
   "nbconvert_exporter": "python",
   "pygments_lexer": "ipython3",
   "version": "3.8.1"
  }
 },
 "nbformat": 4,
 "nbformat_minor": 4
}
